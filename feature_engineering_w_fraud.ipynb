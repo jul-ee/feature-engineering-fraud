{
 "cells": [
  {
   "cell_type": "markdown",
   "id": "bb9d1a63",
   "metadata": {
    "id": "bdedeb3c"
   },
   "source": [
    "# [Projects] 신용거래 이상탐지 데이터\n",
    "\n",
    "카드 거래 이력이 담긴 fraud.csv 데이터를 기반으로\n",
    "\n",
    "신용카드 이상감지 모델을 만들기 위해 데이터를 정제한다.  \n",
    "해당 데이터셋에서는 `is_fraud`가 사기거래 여부를 나타내는 종속변수로 작용한다."
   ]
  },
  {
   "cell_type": "markdown",
   "id": "1b386fac",
   "metadata": {
    "id": "h-71Xpm8UB-B"
   },
   "source": [
    "## 데이터 불러오기"
   ]
  },
  {
   "cell_type": "code",
   "execution_count": null,
   "id": "45e594ea",
   "metadata": {
    "id": "a0620b3e"
   },
   "outputs": [],
   "source": [
    "import pandas as pd\n",
    "import numpy as np\n",
    "import matplotlib.pyplot as plt\n",
    "import seaborn as sns"
   ]
  },
  {
   "cell_type": "code",
   "execution_count": 2,
   "id": "3a9455e2",
   "metadata": {
    "id": "a89b6b6f"
   },
   "outputs": [
    {
     "ename": "NameError",
     "evalue": "name 'pd' is not defined",
     "output_type": "error",
     "traceback": [
      "\u001b[0;31m---------------------------------------------------------------------------\u001b[0m",
      "\u001b[0;31mNameError\u001b[0m                                 Traceback (most recent call last)",
      "\u001b[0;32m/tmp/ipykernel_55/1790994194.py\u001b[0m in \u001b[0;36m<module>\u001b[0;34m\u001b[0m\n\u001b[0;32m----> 1\u001b[0;31m \u001b[0mcc_df\u001b[0m \u001b[0;34m=\u001b[0m \u001b[0mpd\u001b[0m\u001b[0;34m.\u001b[0m\u001b[0mread_csv\u001b[0m\u001b[0;34m(\u001b[0m\u001b[0;34m'/aiffel/data/fraud.csv'\u001b[0m\u001b[0;34m)\u001b[0m\u001b[0;34m\u001b[0m\u001b[0;34m\u001b[0m\u001b[0m\n\u001b[0m",
      "\u001b[0;31mNameError\u001b[0m: name 'pd' is not defined"
     ]
    }
   ],
   "source": [
    "cc_df = pd.read_csv('/aiffel/data/fraud.csv')"
   ]
  },
  {
   "cell_type": "markdown",
   "id": "0b08821e",
   "metadata": {
    "id": "LtvLRHAwUWy1"
   },
   "source": [
    "## 데이터 확인하기"
   ]
  },
  {
   "cell_type": "markdown",
   "id": "26261473",
   "metadata": {
    "id": "_WbrtAzyV3R4"
   },
   "source": [
    "해당 데이터셋은 구매 이력에 대한 데이터이다.\n",
    "\n",
    "trans_date_trans_time: 구매한 날짜와 시간\n",
    "\n",
    "cc_num: 신용카드 번호\n",
    "동일한 값이 빈번하게 등장한다. -> 동일한 신용카드를 사용한 모든 트랜잭션들이 한 줄 한 줄 기록되어 있다.\n",
    "\n",
    "merchant: 구매 상점 이름\n",
    "\n",
    "category: 구매 상점의 카테고리\n",
    "\n",
    "amt: 구매 금액\n",
    "\n",
    "first/last: 이름\n",
    "\n",
    "gender: 성별\n",
    "\n",
    "street/city/state/zip/lat/log: 고객의 주소 정보\n",
    "\n",
    "city_pop: zip에 해당하는 인구 수\n",
    "\n",
    "job: 고객의 직업\n",
    "\n",
    "dob(day of birth): 생년월일\n",
    "\n",
    "trans_num: 트랜잭션별 id (필요X)\n",
    "\n",
    "unix time: trans_date_trans_time의 날짜와 시간을 unix timestamp 형태로 변환시킨 것 (중복된 컬럼)\n",
    "\n",
    "merch_lat/merch_long: 상점의 위도/경도\n",
    "\n",
    "is_fraud: 사기 거래인지 여부\n"
   ]
  },
  {
   "cell_type": "code",
   "execution_count": null,
   "id": "2e591dc8",
   "metadata": {
    "colab": {
     "base_uri": "https://localhost:8080/",
     "height": 843
    },
    "id": "sZNQeAEYU-2Z",
    "outputId": "74b7889b-fc71-4519-cfe7-7cea93d70dde"
   },
   "outputs": [],
   "source": [
    "cc_df"
   ]
  },
  {
   "cell_type": "code",
   "execution_count": null,
   "id": "446c6cf5",
   "metadata": {
    "id": "bqSwPe2lVSL7"
   },
   "outputs": [],
   "source": [
    "pd.set_option('display.max_columns', 50)"
   ]
  },
  {
   "cell_type": "code",
   "execution_count": null,
   "id": "ffd89ce2",
   "metadata": {
    "colab": {
     "base_uri": "https://localhost:8080/",
     "height": 469
    },
    "id": "5cGf9NQBVM9z",
    "outputId": "847e5386-1668-465b-9725-3159fff952d9"
   },
   "outputs": [],
   "source": [
    "cc_df.head()"
   ]
  },
  {
   "cell_type": "code",
   "execution_count": null,
   "id": "c5d52d6c",
   "metadata": {
    "colab": {
     "base_uri": "https://localhost:8080/"
    },
    "id": "AT6huaZNV0rS",
    "outputId": "5a8415fc-9775-43ff-fed3-7f218cbf39e2"
   },
   "outputs": [],
   "source": [
    "cc_df.info()"
   ]
  },
  {
   "cell_type": "markdown",
   "id": "daf23236",
   "metadata": {
    "id": "SJDD-XDvX-Fo"
   },
   "source": [
    "결측치가 없는 것을 확인할 수 있다.\n",
    "\n",
    "날짜 관련 컬럼인 trans_date_trans_time과 dob가 object 형태라서,   \n",
    "해당 컬럼을 사용한다면 datatime 형태로 변환해야 한다."
   ]
  },
  {
   "cell_type": "code",
   "execution_count": null,
   "id": "00ae2bed",
   "metadata": {
    "colab": {
     "base_uri": "https://localhost:8080/",
     "height": 320
    },
    "id": "9JfEMKH4YtbW",
    "outputId": "7c86869d-4d1c-434e-9798-835590416bdf"
   },
   "outputs": [],
   "source": [
    "cc_df.describe()"
   ]
  },
  {
   "cell_type": "markdown",
   "id": "3b493ccd",
   "metadata": {
    "id": "GRXyyXKQY9mv"
   },
   "source": [
    "amt의 max가 25086으로 크지만, 구매 금액인 걸 감안하면 이상치로 판단할 수는 없다.  \n",
    "또, fraud건 같은 경우는 많은 금액을 빼돌리기 위해서 큰 금액을 결제하는 경향도 있기 때문에 이상치라도 하더라도 나름대로 의미가 있을 수 있다.  \n",
    "-> amt 컬럼에 대한 이상치는 별도로 처리하지 않겠다.\n",
    "\n",
    "is_fraud는 0 아니면 1 값인데, min 값을 보면 0.2%로 아주 적은 숫자만 fraud 케이스인 것을 알 수 있다.  \n",
    "-> imbalanced data(불균형 데이터)라고 한다.\n",
    "\n",
    "=> True와 False의 비율이 어느 정도 맞아야 예측 모델을 만들었을 때 좋은 결과를 얻기 쉬운데, 해당 데이터셋처럼 한 쪽으로 치우쳐 있는 경우에는 imbalanced data라고 해서 예측하기가 상당히 까다롭다."
   ]
  },
  {
   "cell_type": "markdown",
   "id": "637b4fed",
   "metadata": {
    "id": "jG8F-f1uUYkW"
   },
   "source": [
    "## 불필요한 컬럼 제거하기"
   ]
  },
  {
   "cell_type": "code",
   "execution_count": null,
   "id": "ab9bbadc",
   "metadata": {
    "colab": {
     "base_uri": "https://localhost:8080/",
     "height": 302
    },
    "id": "P32OCMmOa8wh",
    "outputId": "d3748b4e-ce92-44ea-a3be-386f42985742"
   },
   "outputs": [],
   "source": [
    "cc_df.head(3)"
   ]
  },
  {
   "cell_type": "markdown",
   "id": "ba0bf650",
   "metadata": {
    "id": "uHkzyc1pbCAq"
   },
   "source": [
    "cc_num(신용카드 번호)는 예측하는 순간에는 필요가 없지만, Feature Engineering을 할 때 동일한 고객(동일한 카드 번호)인지를 확인할 필요가 있다.\n",
    "\n",
    "merchant는 특정 상점에 fraud 건이 더 빈번하게 발생한다고 생각할 여지가 많지 않다.  \n",
    "카테고리형 데이터이고, 고윳값들이 너무 많으면 원-핫 인코딩 시 문제가 된다.  \n",
    "-> drop\n",
    "\n",
    "first, last의 이름은 필요없는 정보이다.  \n",
    "-> drop\n",
    "\n",
    "주소 정보를 담고 있는 lat, long 이외의 나머지 컬럼들은 카테고리 형태이기도 하고 특히 street의 경우에는 매우 다양해서 사실상 의미가 없다.  \n",
    "-> drop\n",
    "\n",
    "job도 성별과 마찬가지로 의미가 있을까 생각되지만, 고윳값 개수를 확인해 보면 cc_num과 거의 비슷하다. 즉, 고객 개개인이 다른 직업으로 입력된 것으로 볼 수 있다.  \n",
    "-> drop\n",
    "\n",
    "trans_num은 의미가 없는 데이터이다.  \n",
    "-> drop\n",
    "\n",
    "unix_time은 trans_date_trans_time과 중복된 정보를 담고 있다.  \n",
    "-> drop"
   ]
  },
  {
   "cell_type": "code",
   "execution_count": null,
   "id": "4ee30770",
   "metadata": {
    "colab": {
     "base_uri": "https://localhost:8080/"
    },
    "id": "owhA9oifbsv2",
    "outputId": "6eae2686-17e2-4f25-cfe3-770269651e7d"
   },
   "outputs": [],
   "source": [
    "cc_df['merchant'].nunique()"
   ]
  },
  {
   "cell_type": "code",
   "execution_count": null,
   "id": "9d0f2c04",
   "metadata": {
    "colab": {
     "base_uri": "https://localhost:8080/"
    },
    "id": "L84O6BLEcWKX",
    "outputId": "3fee4df3-4f68-4230-b419-992f503765f3"
   },
   "outputs": [],
   "source": [
    "cc_df['job'].nunique()"
   ]
  },
  {
   "cell_type": "code",
   "execution_count": null,
   "id": "a520ea8b",
   "metadata": {
    "colab": {
     "base_uri": "https://localhost:8080/"
    },
    "id": "nS6WsGw6chPO",
    "outputId": "8cbfa5d5-c392-4eec-8b13-f4aff0d22946"
   },
   "outputs": [],
   "source": [
    "cc_df['cc_num'].nunique()"
   ]
  },
  {
   "cell_type": "code",
   "execution_count": null,
   "id": "99685efc",
   "metadata": {
    "id": "TeKA1WNoa_mi"
   },
   "outputs": [],
   "source": [
    "cc_df.drop(['merchant', 'first', 'last', 'street', 'city', 'state', 'zip', 'job', 'trans_num', 'unix_time'], axis=1, inplace=True)"
   ]
  },
  {
   "cell_type": "markdown",
   "id": "351c62c9",
   "metadata": {
    "id": "YidTm-kCdrTk"
   },
   "source": [
    "# Feature Engineering\n",
    "\n",
    "피처 엔지니어링을 할 때는 데이터 자체에 대한 이해도 굉장히 중요하지만, 목적도 충분히 고려해서 방향을 결정해야 한다.\n",
    "\n",
    "\"fraud 케이스가 언제 발생할까? 이걸 어떻게 찾아낼 수 있을까?\"\n",
    "\n",
    "특정 고객의 평소 패턴과 다른 거래가 발생한다면 해당 케이스는 문제가 있을 것 같다고 의심해 볼 수 있다."
   ]
  },
  {
   "cell_type": "code",
   "execution_count": null,
   "id": "fb28e1ee",
   "metadata": {
    "colab": {
     "base_uri": "https://localhost:8080/",
     "height": 617
    },
    "id": "VFFUtFGpe9U-",
    "outputId": "23925c83-e73a-4b3d-988f-a567408be677"
   },
   "outputs": [],
   "source": [
    "cc_df.sort_values('cc_num')"
   ]
  },
  {
   "cell_type": "markdown",
   "id": "612c1ba3",
   "metadata": {
    "id": "dMG5wIcWUa65"
   },
   "source": [
    "## 구매금액의 z-score 계산하기"
   ]
  },
  {
   "cell_type": "markdown",
   "id": "6b7e69bf",
   "metadata": {
    "id": "kg0NFAN-fJL9"
   },
   "source": [
    "구매 금액이 평소보다 훨씬 크면 의심해 볼 수 있다.\n",
    "\n",
    "단순히 얼마 이상이면 detection을 발동시키는 것이 아니라, 해당 고객의 평소 패턴이 중요하다."
   ]
  },
  {
   "cell_type": "code",
   "execution_count": null,
   "id": "40e95bae",
   "metadata": {
    "id": "MCACXnuTfFwm"
   },
   "outputs": [],
   "source": [
    "# 해당 cc_num의 모든 거래 건을 추려서 평균과 표준편차를 구한 후,\n",
    "# 각각의 amt에 대해 연산을 해주면 z-score를 구할 수 있다.\n",
    "\n",
    "# z-score = (x - 평균) / 표준편차"
   ]
  },
  {
   "cell_type": "code",
   "execution_count": null,
   "id": "8f3804bf",
   "metadata": {
    "id": "SzaHJ58QhSRD"
   },
   "outputs": [],
   "source": [
    "temp = pd.DataFrame({'a': [10,20,30,20,10,200], 'b': [100,300,200,150,250,200], 'c': [10,500,20,250,25,200]})"
   ]
  },
  {
   "cell_type": "code",
   "execution_count": null,
   "id": "3df9087d",
   "metadata": {
    "colab": {
     "base_uri": "https://localhost:8080/",
     "height": 238
    },
    "id": "WQhsYXWYhogT",
    "outputId": "bf599f81-8600-4f5f-c92e-dd082aa79339"
   },
   "outputs": [],
   "source": [
    "temp"
   ]
  },
  {
   "cell_type": "code",
   "execution_count": null,
   "id": "0465169c",
   "metadata": {
    "colab": {
     "base_uri": "https://localhost:8080/",
     "height": 178
    },
    "id": "Hf33Ca9qhqQR",
    "outputId": "d1bf4b2c-550d-49da-b248-a8fb27847eb6"
   },
   "outputs": [],
   "source": [
    "temp.mean()"
   ]
  },
  {
   "cell_type": "code",
   "execution_count": null,
   "id": "4f6d0329",
   "metadata": {
    "colab": {
     "base_uri": "https://localhost:8080/",
     "height": 178
    },
    "id": "b6yesLAnhruz",
    "outputId": "56b7c0a0-e4b7-4d70-f4fd-288bc8e2a127"
   },
   "outputs": [],
   "source": [
    "temp.std()"
   ]
  },
  {
   "cell_type": "code",
   "execution_count": null,
   "id": "58ddae02",
   "metadata": {
    "colab": {
     "base_uri": "https://localhost:8080/",
     "height": 272
    },
    "id": "tXVdtdGVhti3",
    "outputId": "a1148c9e-e320-42e9-df87-1d67565b16b7"
   },
   "outputs": [],
   "source": [
    "(temp['a'] - 48.33) / 74.67"
   ]
  },
  {
   "cell_type": "code",
   "execution_count": null,
   "id": "48ad313a",
   "metadata": {
    "colab": {
     "base_uri": "https://localhost:8080/",
     "height": 272
    },
    "id": "xTBY6W8Lh1dq",
    "outputId": "fc484a25-8a15-4b36-f983-fd11c0d939d8"
   },
   "outputs": [],
   "source": [
    "(temp['b'] - 200) / 70.71"
   ]
  },
  {
   "cell_type": "code",
   "execution_count": null,
   "id": "1d66007f",
   "metadata": {
    "colab": {
     "base_uri": "https://localhost:8080/",
     "height": 272
    },
    "id": "02So0SYWh8Fn",
    "outputId": "19ea63cb-b0be-4096-e8e1-86b024d60ba7"
   },
   "outputs": [],
   "source": [
    "(temp['c'] - 167.5) / 192.5"
   ]
  },
  {
   "cell_type": "markdown",
   "id": "6e9ece83",
   "metadata": {
    "id": "E8eTSaKDgwHV"
   },
   "source": [
    "이처럼 z-score를 구하면  \n",
    "평소의 구매 패턴을 기반으로 각각의 구매 금액이 평소보다 얼마나 많이 썼는지/덜 썼는지를 나타내 준다.\n",
    "\n",
    "'z-scroe가 얼마 이상이면 fraud 건일 것이다' 라고 정의할 필요는 없다. 이는 머신러닝 알고리즘에서 자연스럽게 찾아낼 것이다."
   ]
  },
  {
   "cell_type": "code",
   "execution_count": null,
   "id": "4e895796",
   "metadata": {
    "colab": {
     "base_uri": "https://localhost:8080/",
     "height": 490
    },
    "id": "pi9bQGZrig4z",
    "outputId": "412f080f-f84c-46d3-e433-b374ac866c53"
   },
   "outputs": [],
   "source": [
    "cc_df['cc_num'].value_counts()"
   ]
  },
  {
   "cell_type": "code",
   "execution_count": null,
   "id": "18c188e2",
   "metadata": {
    "id": "hOvShtBYjWb9"
   },
   "outputs": [],
   "source": [
    "# 신용카드 번호(cc_num)별 amt의 평균과 표준편차 구하기\n",
    "# 나중에 DataFrame을 합쳐줘야 하기 때문에 cc_num을 컬럼으로 빼준다.\n",
    "amt_info = cc_df.groupby('cc_num')['amt'].agg(['mean', 'std']).reset_index()"
   ]
  },
  {
   "cell_type": "code",
   "execution_count": null,
   "id": "415d8b78",
   "metadata": {
    "colab": {
     "base_uri": "https://localhost:8080/",
     "height": 424
    },
    "id": "pouxzHFojqLJ",
    "outputId": "d9dfb578-a3a6-4ef2-a0b1-2e8145ccea49"
   },
   "outputs": [],
   "source": [
    "amt_info"
   ]
  },
  {
   "cell_type": "code",
   "execution_count": null,
   "id": "3385c947",
   "metadata": {
    "id": "53b7rcB9jacp"
   },
   "outputs": [],
   "source": [
    "cc_df = cc_df.merge(amt_info, on='cc_num', how='left')"
   ]
  },
  {
   "cell_type": "code",
   "execution_count": null,
   "id": "32123da5",
   "metadata": {
    "colab": {
     "base_uri": "https://localhost:8080/",
     "height": 669
    },
    "id": "Hw2Bicixj13B",
    "outputId": "1883d8b9-f89c-4414-a7e5-fec120be388e"
   },
   "outputs": [],
   "source": [
    "cc_df"
   ]
  },
  {
   "cell_type": "code",
   "execution_count": null,
   "id": "b83e3fa9",
   "metadata": {
    "id": "lHWFE569kAxf"
   },
   "outputs": [],
   "source": [
    "# z-score 구하기\n",
    "cc_df['amt_z'] = (cc_df['amt'] - cc_df['mean']) / cc_df['std']"
   ]
  },
  {
   "cell_type": "code",
   "execution_count": null,
   "id": "d4d1e80c",
   "metadata": {
    "colab": {
     "base_uri": "https://localhost:8080/",
     "height": 669
    },
    "id": "WZehiUZ5kNB3",
    "outputId": "268d4f9c-9c45-4d59-917c-68118a6cbf8b"
   },
   "outputs": [],
   "source": [
    "cc_df"
   ]
  },
  {
   "cell_type": "markdown",
   "id": "97f8e6d1",
   "metadata": {
    "id": "EfVKmaT3kV4i"
   },
   "source": [
    "아직은 amt_z가 0에서 크게 떨어지지 않은 일반적인 거래 건들만 보이는데,  \n",
    "is_fraud가 1인 케이스를 확인해 보자."
   ]
  },
  {
   "cell_type": "code",
   "execution_count": null,
   "id": "768093de",
   "metadata": {
    "colab": {
     "base_uri": "https://localhost:8080/",
     "height": 791
    },
    "id": "fo_Z3sUYkU-w",
    "outputId": "b8c7e493-ffea-4217-844c-147a891a1415"
   },
   "outputs": [],
   "source": [
    "cc_df[cc_df['is_fraud'] == 1]"
   ]
  },
  {
   "cell_type": "markdown",
   "id": "f19444b5",
   "metadata": {
    "id": "5Ge3SMiEkq-j"
   },
   "source": [
    "모든 거래 건들이 그런 건 아니지만, z-score가 크게 나온 건들이 꽤 있다.\n",
    "\n",
    "-> z-score를 구하는 것이 fraud 케이스를 잡아내는 데 꽤 유용하게 쓰일 수 있을 것 같다."
   ]
  },
  {
   "cell_type": "code",
   "execution_count": null,
   "id": "38d861b2",
   "metadata": {
    "id": "KKesUrpAkqn5"
   },
   "outputs": [],
   "source": [
    "cc_df.drop(['mean', 'std'], axis=1, inplace=True)"
   ]
  },
  {
   "cell_type": "markdown",
   "id": "1fee75a1",
   "metadata": {
    "id": "dakDxzSvlYmj"
   },
   "source": [
    "카테고리까지 고려된 z-score도 구해보자."
   ]
  },
  {
   "cell_type": "code",
   "execution_count": null,
   "id": "0164b336",
   "metadata": {
    "id": "dhX53RYjlYN1"
   },
   "outputs": [],
   "source": [
    "# 신용카드 번호(cc_num)별, 카테고리별 amt의 평균과 표준편차 구하기\n",
    "cat_info = cc_df.groupby(['cc_num', 'category'])['amt'].agg(['mean', 'std']).reset_index()"
   ]
  },
  {
   "cell_type": "code",
   "execution_count": null,
   "id": "5b2ea6cd",
   "metadata": {
    "colab": {
     "base_uri": "https://localhost:8080/",
     "height": 424
    },
    "id": "JIwRurHAl-AC",
    "outputId": "2e18c156-4eab-40fd-d1e8-f5decbbc96bb"
   },
   "outputs": [],
   "source": [
    "cat_info"
   ]
  },
  {
   "cell_type": "code",
   "execution_count": null,
   "id": "614ff48f",
   "metadata": {
    "id": "JlavG-I-mDdl"
   },
   "outputs": [],
   "source": [
    "# cc_num별로만 합치면, 중복된 cc_num 그리고 다른 카테고리들이 제대로 매칭이 되지 않는다.\n",
    "cc_df = cc_df.merge(cat_info, on=['cc_num', 'category'], how='left')"
   ]
  },
  {
   "cell_type": "code",
   "execution_count": null,
   "id": "3c7d2abe",
   "metadata": {
    "colab": {
     "base_uri": "https://localhost:8080/",
     "height": 669
    },
    "id": "4nQvZ-a9meJ6",
    "outputId": "b4862cd8-de7c-4005-a946-0a11b850b854"
   },
   "outputs": [],
   "source": [
    "cc_df"
   ]
  },
  {
   "cell_type": "code",
   "execution_count": null,
   "id": "25ae5ce3",
   "metadata": {
    "id": "HmI9jUBsmkLz"
   },
   "outputs": [],
   "source": [
    "# z-score 구하기\n",
    "cc_df['cat_amt_z'] = (cc_df['amt'] - cc_df['mean']) / cc_df['std']"
   ]
  },
  {
   "cell_type": "code",
   "execution_count": null,
   "id": "32acc6da",
   "metadata": {
    "id": "USl5ezvPmwOM"
   },
   "outputs": [],
   "source": [
    "cc_df.drop(['mean', 'std'], axis=1, inplace=True)"
   ]
  },
  {
   "cell_type": "code",
   "execution_count": null,
   "id": "2fd64917",
   "metadata": {
    "colab": {
     "base_uri": "https://localhost:8080/",
     "height": 330
    },
    "id": "4RKgenKzm7vY",
    "outputId": "11f4e4d7-b86d-421c-8885-19ca2043727f"
   },
   "outputs": [],
   "source": [
    "cc_df.head()"
   ]
  },
  {
   "cell_type": "markdown",
   "id": "76993abd",
   "metadata": {
    "id": "sqLI8nsanDZ2"
   },
   "source": [
    "구매 금액에 대해서는 평소 행동 패턴에 기반하여 얼마나 이상한지 이상치를 감지해 내는 두 개의 컬럼 amt_z, cat_amt_z을 구했다."
   ]
  },
  {
   "cell_type": "markdown",
   "id": "1a9e3d93",
   "metadata": {
    "id": "HKXgttX-UhSO"
   },
   "source": [
    "## 결제 시간 관련 feature 분석"
   ]
  },
  {
   "cell_type": "markdown",
   "id": "62362ae8",
   "metadata": {
    "id": "Op5iTj81ndL2"
   },
   "source": [
    "고객마다 신용카드를 빈번하게 사용하는 시간대와, 잘 사용하지 않는 시간대가 있을 것이다.\n",
    "\n",
    "trans_date_trans_time 컬럼에서 시간만 뽑아내서 각 고객이 주로 어느 시간대에 몇 퍼센트의 비중으로 결제를 하는지, 그리고 각각의 거래 건은 그 중에 어디에 속하는지를 하나의 변수로 추가한다.  \n",
    "-> 해당 결제 건이 평소에 자주 사용하던 시간대의 결제 건인지, 아니면 좀 드문 시간대에 사용한 결제 건인지도 확인할 수 있다.\n",
    "\n",
    "=> fraud 케이스를 감지할 수 있는 또 하나의 feature가 될 수 있을 것 같다."
   ]
  },
  {
   "cell_type": "code",
   "execution_count": null,
   "id": "3ab38eec",
   "metadata": {
    "colab": {
     "base_uri": "https://localhost:8080/"
    },
    "id": "TdUn-SDenrFL",
    "outputId": "de8d776b-763b-4905-86cb-7549f706a72d"
   },
   "outputs": [],
   "source": [
    "cc_df.info()"
   ]
  },
  {
   "cell_type": "code",
   "execution_count": null,
   "id": "15066c55",
   "metadata": {
    "id": "M1YFVIYrnrDQ"
   },
   "outputs": [],
   "source": [
    "cc_df['hour'] = pd.to_datetime(cc_df['trans_date_trans_time']).dt.hour"
   ]
  },
  {
   "cell_type": "code",
   "execution_count": null,
   "id": "be0430f5",
   "metadata": {
    "colab": {
     "base_uri": "https://localhost:8080/",
     "height": 330
    },
    "id": "8ezTjAGpnckJ",
    "outputId": "70febac7-998c-465a-e58b-cf96d03bfb07"
   },
   "outputs": [],
   "source": [
    "cc_df.head()"
   ]
  },
  {
   "cell_type": "markdown",
   "id": "d90438c0",
   "metadata": {
    "id": "FVg_nzi_o9A3"
   },
   "source": [
    "신용카드 번호(cc_num)를 기준으로 각 카드가 총 몇 건이 결제가 되었고, 각각 어떤 시간대에 얼마만큼 결제가 되었나를 살펴봐야 한다.\n",
    "\n",
    "z-score로 구하기에는 제약이 있다.  \n",
    "예를 들어 23시와 0시는 컴퓨터가 인식하기에는 0과 23만큼의 차이인데, 실제로 시간 단위에서는 한 시간의 차이밖에 안 되는 것이다. 그래서 오히려 같은 시간 범주로 묶어야 되는데 완전히 동떨어진 개념으로 인식하게 된다."
   ]
  },
  {
   "cell_type": "code",
   "execution_count": null,
   "id": "b74cf5cb",
   "metadata": {
    "id": "plzDL9pTnT22"
   },
   "outputs": [],
   "source": [
    "# 시간을 숫자 그대로 두지 않고, 인위적으로 범위를 정해서 나눠준다.\n",
    "def hour_func(x):\n",
    "    if (x >= 6) & (x < 12):\n",
    "        return 'morning'\n",
    "    elif (x >= 12) & (x < 18):\n",
    "        return 'afternoon'\n",
    "    elif (x >= 18) & (x < 23):\n",
    "        return 'night'\n",
    "    else:\n",
    "        return 'evening'"
   ]
  },
  {
   "cell_type": "code",
   "execution_count": null,
   "id": "86507b6d",
   "metadata": {
    "id": "2F2X903mq7BJ"
   },
   "outputs": [],
   "source": [
    "cc_df['hour_cat'] = cc_df['hour'].apply(hour_func)"
   ]
  },
  {
   "cell_type": "code",
   "execution_count": null,
   "id": "377de842",
   "metadata": {
    "colab": {
     "base_uri": "https://localhost:8080/",
     "height": 241
    },
    "id": "DZyy5wDdrXcK",
    "outputId": "e2abc024-deaa-4be8-d945-bd9cbff84939"
   },
   "outputs": [],
   "source": [
    "cc_df['hour_cat'].value_counts()"
   ]
  },
  {
   "cell_type": "code",
   "execution_count": null,
   "id": "057708b9",
   "metadata": {
    "id": "ChPT-Vrarjnn"
   },
   "outputs": [],
   "source": [
    "# 신용카드 번호(cc_num)별로 총 몇 건의 결제 건이 있는지 구하기\n",
    "all_cnt = cc_df.groupby('cc_num')['amt'].count().reset_index()"
   ]
  },
  {
   "cell_type": "code",
   "execution_count": null,
   "id": "509a201b",
   "metadata": {
    "id": "tUfkumKysPya"
   },
   "outputs": [],
   "source": [
    "# 신용카드 번호(cc_num)별, 시간대별로 총 몇 건의 결제 건이 있는지 구하기\n",
    "hour_cnt = cc_df.groupby(['cc_num', 'hour_cat'])['amt'].count().reset_index()"
   ]
  },
  {
   "cell_type": "code",
   "execution_count": null,
   "id": "d77a6926",
   "metadata": {
    "colab": {
     "base_uri": "https://localhost:8080/",
     "height": 206
    },
    "id": "rzEzV_qWsexB",
    "outputId": "e48cfe81-3714-484f-b818-1b31a60fd2b1"
   },
   "outputs": [],
   "source": [
    "all_cnt.head()"
   ]
  },
  {
   "cell_type": "code",
   "execution_count": null,
   "id": "481d3ce8",
   "metadata": {
    "colab": {
     "base_uri": "https://localhost:8080/",
     "height": 206
    },
    "id": "j5SJGF6-skVA",
    "outputId": "098bbcdf-c70c-4f96-f567-b178036f2d9c"
   },
   "outputs": [],
   "source": [
    "hour_cnt.head()"
   ]
  },
  {
   "cell_type": "code",
   "execution_count": null,
   "id": "4c0a1c32",
   "metadata": {
    "id": "ERtHPCeOszG6"
   },
   "outputs": [],
   "source": [
    "# 시간대별 퍼센트를 구하기 위해 hour_cnt에 all_cnt를 붙이기\n",
    "hour_cnt = hour_cnt.merge(all_cnt, on='cc_num', how='left')"
   ]
  },
  {
   "cell_type": "code",
   "execution_count": null,
   "id": "4c8c2d03",
   "metadata": {
    "colab": {
     "base_uri": "https://localhost:8080/",
     "height": 206
    },
    "id": "iZmy0TTTtCnY",
    "outputId": "9b4630f9-d757-41dc-b1de-a79823f86dda"
   },
   "outputs": [],
   "source": [
    "hour_cnt.head()"
   ]
  },
  {
   "cell_type": "code",
   "execution_count": null,
   "id": "b302deed",
   "metadata": {
    "id": "mRtIR5cUtP0I"
   },
   "outputs": [],
   "source": [
    "hour_cnt = hour_cnt.rename({'amt_x': 'hour_cnt', 'amt_y': 'total_cnt'}, axis=1)"
   ]
  },
  {
   "cell_type": "code",
   "execution_count": null,
   "id": "131d9ac0",
   "metadata": {
    "colab": {
     "base_uri": "https://localhost:8080/",
     "height": 206
    },
    "id": "XJopAjxctmd2",
    "outputId": "5d190204-bab7-4312-b9d6-5b1dfb868d9e"
   },
   "outputs": [],
   "source": [
    "hour_cnt.head()"
   ]
  },
  {
   "cell_type": "code",
   "execution_count": null,
   "id": "2205fd3a",
   "metadata": {
    "id": "5GXbichdtx_W"
   },
   "outputs": [],
   "source": [
    "# total_cnt에 대한 hour_cnt의 퍼센트 구하기\n",
    "hour_cnt['hour_perc'] = hour_cnt['hour_cnt'] / hour_cnt['total_cnt']"
   ]
  },
  {
   "cell_type": "code",
   "execution_count": null,
   "id": "2e33eff9",
   "metadata": {
    "colab": {
     "base_uri": "https://localhost:8080/",
     "height": 363
    },
    "id": "JIrrJigOuE0T",
    "outputId": "4ef019b8-7373-416a-db20-39a17addfbff"
   },
   "outputs": [],
   "source": [
    "hour_cnt.head(10)"
   ]
  },
  {
   "cell_type": "code",
   "execution_count": null,
   "id": "b99f93aa",
   "metadata": {
    "colab": {
     "base_uri": "https://localhost:8080/"
    },
    "id": "t82S1L4Auemi",
    "outputId": "afd786a1-94e8-4bfa-f47b-4ab270e42b07"
   },
   "outputs": [],
   "source": [
    "# 동일한 cc_num에서 hour_perc의 합이 1이 되는지 확인\n",
    "hour_cnt.loc[0:3]['hour_perc'].sum()"
   ]
  },
  {
   "cell_type": "code",
   "execution_count": null,
   "id": "a658483c",
   "metadata": {
    "colab": {
     "base_uri": "https://localhost:8080/",
     "height": 490
    },
    "id": "AYwVm3ibuL5f",
    "outputId": "b3a6761b-6a4e-4919-cd17-7338802654d5"
   },
   "outputs": [],
   "source": [
    "# 동일한 cc_num에서 hour_perc의 합이 1이 되는지 확인\n",
    "hour_cnt.groupby('cc_num')['hour_perc'].sum()"
   ]
  },
  {
   "cell_type": "code",
   "execution_count": null,
   "id": "2ccc663f",
   "metadata": {
    "id": "6FWZXVogu3TS"
   },
   "outputs": [],
   "source": [
    "# hour_perc 컬럼을 원래 데이터프레임 cc_df에 붙이기 위한 컬럼 정리\n",
    "hour_cnt = hour_cnt[['cc_num', 'hour_cat', 'hour_perc']]"
   ]
  },
  {
   "cell_type": "code",
   "execution_count": null,
   "id": "1f77eb13",
   "metadata": {
    "id": "4FlU7tJovejA"
   },
   "outputs": [],
   "source": [
    "# cc_df에 hour_cnt를 합치기\n",
    "cc_df = cc_df.merge(hour_cnt, on=['cc_num', 'hour_cat'], how='left')"
   ]
  },
  {
   "cell_type": "code",
   "execution_count": null,
   "id": "dcdbd5a3",
   "metadata": {
    "colab": {
     "base_uri": "https://localhost:8080/",
     "height": 330
    },
    "id": "wDfQYXHbvl1o",
    "outputId": "c0cb753d-945a-4d36-8334-5129dac30a8e"
   },
   "outputs": [],
   "source": [
    "cc_df.head()"
   ]
  },
  {
   "cell_type": "code",
   "execution_count": null,
   "id": "6163fd8b",
   "metadata": {
    "id": "X03ke0EKvlxc"
   },
   "outputs": [],
   "source": [
    "# 불필요한 컬럼 제거하기\n",
    "cc_df.drop(['trans_date_trans_time', 'hour', 'hour_cat'], axis=1, inplace=True)"
   ]
  },
  {
   "cell_type": "markdown",
   "id": "5595a530",
   "metadata": {
    "id": "DudeLi08wOp9"
   },
   "source": [
    "시간에 대한 정보들을 얻었다.\n",
    "\n",
    "이외에도,\n",
    "요일을 찾아서 주말과 평일을 구분해 본다든가\n",
    "\n",
    "이전 거래와의 시간 혹은 날짜 차이를 구해 본다든가  \n",
    "-> 카드를 쓰다가 다른 카드르 발급받아서 한동안 사용하지 않을 수 있는데, 만약 세 달 동안 안쓰던 카드가 갑자기 높은 금액으로 결제됐다고 한다면, 이 케이스도 fraud detection해 볼 수 있는 부분이다."
   ]
  },
  {
   "cell_type": "markdown",
   "id": "76e5f157",
   "metadata": {
    "id": "A5vM3YVoUoxF"
   },
   "source": [
    "## 거리 관련 feature 분석"
   ]
  },
  {
   "cell_type": "code",
   "execution_count": null,
   "id": "e283cadd",
   "metadata": {
    "id": "qWKvRtCrw80C"
   },
   "outputs": [],
   "source": []
  },
  {
   "cell_type": "markdown",
   "id": "df6b4809",
   "metadata": {
    "id": "bPs0VvcyUq_j"
   },
   "source": [
    "## 나이 feature 만들어보기"
   ]
  },
  {
   "cell_type": "markdown",
   "id": "fc498123",
   "metadata": {
    "id": "mTo_gWs5UtqG"
   },
   "source": [
    "## 범주형 데이터의 One-Hot Encoding"
   ]
  },
  {
   "cell_type": "code",
   "execution_count": null,
   "id": "611415bc",
   "metadata": {
    "id": "9frm2JLqUKQj"
   },
   "outputs": [],
   "source": []
  }
 ],
 "metadata": {
  "colab": {
   "provenance": []
  },
  "kernelspec": {
   "display_name": "Python 3 (ipykernel)",
   "language": "python",
   "name": "python3"
  },
  "language_info": {
   "codemirror_mode": {
    "name": "ipython",
    "version": 3
   },
   "file_extension": ".py",
   "mimetype": "text/x-python",
   "name": "python",
   "nbconvert_exporter": "python",
   "pygments_lexer": "ipython3",
   "version": "3.9.7"
  }
 },
 "nbformat": 4,
 "nbformat_minor": 5
}
